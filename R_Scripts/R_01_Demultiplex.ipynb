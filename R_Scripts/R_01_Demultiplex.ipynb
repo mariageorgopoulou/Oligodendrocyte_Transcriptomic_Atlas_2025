{
 "cells": [
  {
   "cell_type": "code",
   "execution_count": null,
   "id": "3b2d741a-a0d2-4833-9e84-a9320e583902",
   "metadata": {},
   "outputs": [],
   "source": [
    "### Demultiplexing of Pooled Sequencing Runs."
   ]
  },
  {
   "cell_type": "code",
   "execution_count": null,
   "id": "839b1be2",
   "metadata": {
    "tags": []
   },
   "outputs": [],
   "source": [
    "library(\"data.table\")\n",
    "library(\"Seurat\")"
   ]
  },
  {
   "cell_type": "code",
   "execution_count": null,
   "id": "60f6d0f3",
   "metadata": {
    "tags": []
   },
   "outputs": [],
   "source": [
    "setwd(\"/user/NovaSeq6000_Run/out/data/\")\n",
    "fm <- fread(paste0(\"zcat < \", \"_freemuxlet.clust1.samples.gz\"))\n",
    "row.names(fm) <- fm$BARCODE\n",
    "head(fm)"
   ]
  },
  {
   "cell_type": "code",
   "execution_count": null,
   "id": "ab254752",
   "metadata": {
    "tags": []
   },
   "outputs": [],
   "source": [
    "data.dir <- setwd(\"/user/NovaSeq6000_Run/out/counts/Sample/outs/raw_feature_bc_matrix/\")\n",
    "list.files(data.dir)\n",
    "matrix <- Read10X(data.dir = data.dir)\n",
    "head(matrix)"
   ]
  },
  {
   "cell_type": "code",
   "execution_count": null,
   "id": "84ff41b4",
   "metadata": {
    "tags": []
   },
   "outputs": [],
   "source": [
    "SeuratObject <- CreateSeuratObject(counts = matrix$\"Gene Expression\")\n",
    "SeuratObject <- AddMetaData(SeuratObject, fm)\n",
    "head(SeuratObject@meta.data)"
   ]
  },
  {
   "cell_type": "code",
   "execution_count": null,
   "id": "69f7fc65",
   "metadata": {},
   "outputs": [],
   "source": [
    "Seurat_SNG <- subset(SeuratObject, DROPLET.TYPE == \"SNG\")\n",
    "Seurat_SNG <- subset(Seurat_SNG, BEST.GUESS == \"1,1\")"
   ]
  },
  {
   "cell_type": "code",
   "execution_count": null,
   "id": "908e7872-69ff-464f-8220-e23573192f3d",
   "metadata": {},
   "outputs": [],
   "source": [
    "Seurat_SNG$Sample_ID <- \"Sample_1\""
   ]
  },
  {
   "cell_type": "code",
   "execution_count": null,
   "id": "4d2f6d21",
   "metadata": {},
   "outputs": [],
   "source": [
    "setwd(\"/users/Analysis/After_Freemuxlet/\")\n",
    "saveRDS(Seurat_SNG, \"Sample_1_Freemuxlet.rds\")"
   ]
  },
  {
   "cell_type": "code",
   "execution_count": null,
   "id": "0cd4198b-776b-4217-80e6-23b7591546b6",
   "metadata": {},
   "outputs": [],
   "source": []
  }
 ],
 "metadata": {
  "kernelspec": {
   "display_name": "R_4.4",
   "language": "R",
   "name": "r_4.4"
  },
  "language_info": {
   "codemirror_mode": "r",
   "file_extension": ".r",
   "mimetype": "text/x-r-source",
   "name": "R",
   "pygments_lexer": "r",
   "version": "4.4.3"
  }
 },
 "nbformat": 4,
 "nbformat_minor": 5
}
