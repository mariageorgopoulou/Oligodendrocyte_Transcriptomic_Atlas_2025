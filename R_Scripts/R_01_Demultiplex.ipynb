{
 "cells": [
  {
   "cell_type": "code",
   "execution_count": null,
   "id": "839b1be2",
   "metadata": {
    "tags": []
   },
   "outputs": [],
   "source": [
    "library(\"data.table\")\n",
    "library(\"Seurat\")"
   ]
  },
  {
   "cell_type": "code",
   "execution_count": null,
   "id": "60f6d0f3",
   "metadata": {
    "tags": []
   },
   "outputs": [],
   "source": [
    "setwd(\"/user/NovaSeq6000_Run/out/data/\")\n",
    "fm <- fread(paste0(\"zcat < \", \"_freemuxlet.clust1.samples.gz\"))\n",
    "row.names(fm) <- fm$BARCODE\n",
    "head(fm)"
   ]
  },
  {
   "cell_type": "code",
   "execution_count": null,
   "id": "ab254752",
   "metadata": {
    "tags": []
   },
   "outputs": [],
   "source": [
    "data.dir <- setwd(\"/user/NovaSeq6000_Run/out/counts/Sample/outs/raw_feature_bc_matrix/\")\n",
    "list.files(data.dir)\n",
    "matrix <- Read10X(data.dir = data.dir)\n",
    "head(matrix)"
   ]
  },
  {
   "cell_type": "code",
   "execution_count": null,
   "id": "84ff41b4",
   "metadata": {
    "tags": []
   },
   "outputs": [],
   "source": [
    "SeuratObject <- CreateSeuratObject(counts = matrix$\"Gene Expression\")\n",
    "SeuratObject <- AddMetaData(seurat, fm)\n",
    "head(SeuratObject@meta.data)"
   ]
  },
  {
   "cell_type": "code",
   "execution_count": null,
   "id": "69f7fc65",
   "metadata": {},
   "outputs": [],
   "source": [
    "Seurat_SNG <- subset(SeuratObject, DROPLET.TYPE == \"SNG\")\n",
    "Seurat_SNG <- subset(Seurat_SNG, BEST.GUESS == \"1,1\")"
   ]
  },
  {
   "cell_type": "code",
   "execution_count": null,
   "id": "908e7872-69ff-464f-8220-e23573192f3d",
   "metadata": {},
   "outputs": [],
   "source": [
    "Seurat_SNG$Sample_ID <- \"Sample_1\""
   ]
  },
  {
   "cell_type": "code",
   "execution_count": null,
   "id": "4d2f6d21",
   "metadata": {},
   "outputs": [],
   "source": [
    "setwd(\"/users/Analysis/After_Freemuxlet/\")\n",
    "saveRDS(Seurat_SNG, \"Sample_1_Freemuxlet.rds\")"
   ]
  },
  {
   "cell_type": "code",
   "execution_count": null,
   "id": "c48e07e9-97c3-4941-8750-bb57f7546073",
   "metadata": {},
   "outputs": [],
   "source": []
  },
  {
   "cell_type": "code",
   "execution_count": null,
   "id": "6da30f08-50e6-4c69-b085-811efda92291",
   "metadata": {},
   "outputs": [],
   "source": []
  },
  {
   "cell_type": "code",
   "execution_count": null,
   "id": "39c24a7b-b3b7-495e-9f7a-8b735162569c",
   "metadata": {},
   "outputs": [],
   "source": []
  },
  {
   "cell_type": "code",
   "execution_count": null,
   "id": "449be899-4ea8-4237-9ae8-013f8619898c",
   "metadata": {},
   "outputs": [],
   "source": []
  }
 ],
 "metadata": {
  "kernelspec": {
   "display_name": "R_4.4",
   "language": "R",
   "name": "r_4.4"
  },
  "language_info": {
   "codemirror_mode": "r",
   "file_extension": ".r",
   "mimetype": "text/x-r-source",
   "name": "R",
   "pygments_lexer": "r",
   "version": "4.4.3"
  }
 },
 "nbformat": 4,
 "nbformat_minor": 5
}
